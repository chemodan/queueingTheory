{
 "cells": [
  {
   "cell_type": "markdown",
   "metadata": {},
   "source": [
    "# Erlang B calculations\n",
    "## source of truth: http://www.erlang.com/calculator/erlb/\n"
   ]
  },
  {
   "cell_type": "code",
   "execution_count": 182,
   "metadata": {
    "collapsed": true
   },
   "outputs": [],
   "source": [
    "from math import factorial\n",
    "import pandas as pd\n",
    "import math\n",
    "\n",
    "VERBOSE = False"
   ]
  },
  {
   "cell_type": "markdown",
   "metadata": {},
   "source": [
    "## Return probability of blocking given concurrency and number of lines"
   ]
  },
  {
   "cell_type": "code",
   "execution_count": 193,
   "metadata": {
    "collapsed": true
   },
   "outputs": [],
   "source": [
    "########################################################\n",
    "## Calculate the probability of blocking under Erlang-B model assumptions\n",
    "########################################################\n",
    "def ErlangB (concurrency, num_lines):\n",
    "    concurrency =float (concurrency)\n",
    "    InvB = 1.0\n",
    "    for j in range(1, num_lines+1):\n",
    "        InvB = 1.0 + InvB * (j/concurrency)\n",
    "    return (1.0 / InvB)\n",
    "  "
   ]
  },
  {
   "cell_type": "code",
   "execution_count": 195,
   "metadata": {
    "collapsed": false
   },
   "outputs": [
    {
     "data": {
      "text/plain": [
       "0.0013932985544363936"
      ]
     },
     "execution_count": 195,
     "metadata": {},
     "output_type": "execute_result"
    }
   ],
   "source": [
    "## Testing:\n",
    "ErlangB(21, 35)"
   ]
  },
  {
   "cell_type": "markdown",
   "metadata": {},
   "source": [
    "## Return Min Number of lines needed to guarantee ErlangB() returns less than pBlock"
   ]
  },
  {
   "cell_type": "code",
   "execution_count": 206,
   "metadata": {
    "collapsed": false
   },
   "outputs": [],
   "source": [
    "def numLines (concurrency, pBlock, abs_min_lines = None, incrementer = 1):\n",
    "   \n",
    "    concurrency =float (concurrency)\n",
    "    if abs_min_lines is None:\n",
    "        abs_min_lines = int (concurrency) + incrementer\n",
    "    pB_absminlines = ErlangB(concurrency, abs_min_lines)\n",
    "    pb_minlines =  ErlangB(concurrency, abs_min_lines)\n",
    "    \n",
    "    myDF = pd.DataFrame.from_dict({'concur': [concurrency],\n",
    "                                       'pBlock': [pBlock],\n",
    "                                       'lines': [abs_min_lines],\n",
    "                                       'pB': [pb_minlines] }\n",
    "                                      )\n",
    "    #print myDF\n",
    "   \n",
    "    min_lines = int (abs_min_lines * 1.1)\n",
    "\n",
    "    ###############################################################\n",
    "    ##  Loop through the possible min_lines (until calculated pB becomes less then pBlock,\n",
    "    ##  incrementing them by incrementer\n",
    "    ###############################################################\n",
    "    while pb_minlines >= pBlock:\n",
    "        pb_minlines = ErlangB(concurrency, min_lines)\n",
    "        mydf = pd.DataFrame.from_dict({'concur': [concurrency],\n",
    "                                       'pBlock': [pBlock],\n",
    "                                       'lines': [min_lines],\n",
    "                                       'pB': [pb_minlines] }\n",
    "                                      )\n",
    "        ##print mydf     \n",
    "        myDF = myDF.append(mydf)\n",
    "        min_lines = int (min_lines + incrementer)\n",
    "    \n",
    "    if VERBOSE:\n",
    "        return myDF\n",
    "    else:\n",
    "        return mydf"
   ]
  },
  {
   "cell_type": "code",
   "execution_count": 207,
   "metadata": {
    "collapsed": false
   },
   "outputs": [
    {
     "data": {
      "text/html": [
       "<div style=\"max-height:1000px;max-width:1500px;overflow:auto;\">\n",
       "<table border=\"1\" class=\"dataframe\">\n",
       "  <thead>\n",
       "    <tr style=\"text-align: right;\">\n",
       "      <th></th>\n",
       "      <th>concur</th>\n",
       "      <th>lines</th>\n",
       "      <th>pB</th>\n",
       "      <th>pBlock</th>\n",
       "    </tr>\n",
       "  </thead>\n",
       "  <tbody>\n",
       "    <tr>\n",
       "      <th>0</th>\n",
       "      <td> 100</td>\n",
       "      <td> 128</td>\n",
       "      <td> 0.000968</td>\n",
       "      <td> 0.001</td>\n",
       "    </tr>\n",
       "  </tbody>\n",
       "</table>\n",
       "</div>"
      ],
      "text/plain": [
       "   concur  lines        pB  pBlock\n",
       "0     100    128  0.000968   0.001"
      ]
     },
     "execution_count": 207,
     "metadata": {},
     "output_type": "execute_result"
    }
   ],
   "source": [
    "numLines (100, 0.001)"
   ]
  },
  {
   "cell_type": "code",
   "execution_count": 205,
   "metadata": {
    "collapsed": false
   },
   "outputs": [
    {
     "data": {
      "text/html": [
       "<div style=\"max-height:1000px;max-width:1500px;overflow:auto;\">\n",
       "<table border=\"1\" class=\"dataframe\">\n",
       "  <thead>\n",
       "    <tr style=\"text-align: right;\">\n",
       "      <th></th>\n",
       "      <th>concur</th>\n",
       "      <th>lines</th>\n",
       "      <th>pB</th>\n",
       "      <th>pBlock</th>\n",
       "    </tr>\n",
       "  </thead>\n",
       "  <tbody>\n",
       "    <tr>\n",
       "      <th>0</th>\n",
       "      <td> 100</td>\n",
       "      <td> 128</td>\n",
       "      <td> 0.000968</td>\n",
       "      <td> 0.00100</td>\n",
       "    </tr>\n",
       "    <tr>\n",
       "      <th>0</th>\n",
       "      <td> 100</td>\n",
       "      <td> 137</td>\n",
       "      <td> 0.000074</td>\n",
       "      <td> 0.00010</td>\n",
       "    </tr>\n",
       "    <tr>\n",
       "      <th>0</th>\n",
       "      <td> 100</td>\n",
       "      <td> 143</td>\n",
       "      <td> 0.000010</td>\n",
       "      <td> 0.00001</td>\n",
       "    </tr>\n",
       "    <tr>\n",
       "      <th>0</th>\n",
       "      <td> 110</td>\n",
       "      <td> 139</td>\n",
       "      <td> 0.000999</td>\n",
       "      <td> 0.00100</td>\n",
       "    </tr>\n",
       "    <tr>\n",
       "      <th>0</th>\n",
       "      <td> 110</td>\n",
       "      <td> 148</td>\n",
       "      <td> 0.000088</td>\n",
       "      <td> 0.00010</td>\n",
       "    </tr>\n",
       "    <tr>\n",
       "      <th>0</th>\n",
       "      <td> 110</td>\n",
       "      <td> 155</td>\n",
       "      <td> 0.000009</td>\n",
       "      <td> 0.00001</td>\n",
       "    </tr>\n",
       "    <tr>\n",
       "      <th>0</th>\n",
       "      <td> 120</td>\n",
       "      <td> 151</td>\n",
       "      <td> 0.000806</td>\n",
       "      <td> 0.00100</td>\n",
       "    </tr>\n",
       "    <tr>\n",
       "      <th>0</th>\n",
       "      <td> 120</td>\n",
       "      <td> 160</td>\n",
       "      <td> 0.000076</td>\n",
       "      <td> 0.00010</td>\n",
       "    </tr>\n",
       "    <tr>\n",
       "      <th>0</th>\n",
       "      <td> 120</td>\n",
       "      <td> 167</td>\n",
       "      <td> 0.000009</td>\n",
       "      <td> 0.00001</td>\n",
       "    </tr>\n",
       "  </tbody>\n",
       "</table>\n",
       "</div>"
      ],
      "text/plain": [
       "   concur  lines        pB   pBlock\n",
       "0     100    128  0.000968  0.00100\n",
       "0     100    137  0.000074  0.00010\n",
       "0     100    143  0.000010  0.00001\n",
       "0     110    139  0.000999  0.00100\n",
       "0     110    148  0.000088  0.00010\n",
       "0     110    155  0.000009  0.00001\n",
       "0     120    151  0.000806  0.00100\n",
       "0     120    160  0.000076  0.00010\n",
       "0     120    167  0.000009  0.00001"
      ]
     },
     "execution_count": 205,
     "metadata": {},
     "output_type": "execute_result"
    }
   ],
   "source": [
    "## Testing:\n",
    "myDF = None\n",
    "for cc in (100, 110, 120):\n",
    "    for pp in (0.001, 0.0001, 0.00001):\n",
    "        if myDF is None:\n",
    "            myDF = numLines(cc, pp)\n",
    "        else:\n",
    "            myDF = myDF.append (numLines(cc, pp))\n",
    "myDF"
   ]
  }
 ],
 "metadata": {
  "kernelspec": {
   "display_name": "Python 2",
   "language": "python",
   "name": "python2"
  },
  "language_info": {
   "codemirror_mode": {
    "name": "ipython",
    "version": 2
   },
   "file_extension": ".py",
   "mimetype": "text/x-python",
   "name": "python",
   "nbconvert_exporter": "python",
   "pygments_lexer": "ipython2",
   "version": "2.7.9"
  }
 },
 "nbformat": 4,
 "nbformat_minor": 0
}

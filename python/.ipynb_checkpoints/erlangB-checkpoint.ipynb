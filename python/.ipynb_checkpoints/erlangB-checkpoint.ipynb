{
 "cells": [
  {
   "cell_type": "markdown",
   "metadata": {},
   "source": [
    "# Erlang B calculations\n",
    "## source of truth: http://www.erlang.com/calculator/erlb/\n"
   ]
  },
  {
   "cell_type": "code",
   "execution_count": 182,
   "metadata": {
    "collapsed": true
   },
   "outputs": [],
   "source": [
    "from math import factorial\n",
    "import pandas as pd\n",
    "import math\n",
    "\n",
    "VERBOSE = False"
   ]
  },
  {
   "cell_type": "markdown",
   "metadata": {},
   "source": [
    "## Return probability of blocking given concurrency and number of lines"
   ]
  },
  {
   "cell_type": "code",
   "execution_count": 183,
   "metadata": {
    "collapsed": true
   },
   "outputs": [],
   "source": [
    "########################################################\n",
    "## Calculate the probability of blocking under Erlang-B model assumptions\n",
    "########################################################\n",
    "def ErlangB (concurrency, num_lines):\n",
    "    InvB = 1.0\n",
    "    for j in range(1, num_lines+1):\n",
    "        InvB = 1.0 + InvB * (j/concurrency)\n",
    "    return (1.0 / InvB)\n",
    "  "
   ]
  },
  {
   "cell_type": "code",
   "execution_count": 184,
   "metadata": {
    "collapsed": false
   },
   "outputs": [
    {
     "data": {
      "text/plain": [
       "0.06972498954186325"
      ]
     },
     "execution_count": 184,
     "metadata": {},
     "output_type": "execute_result"
    }
   ],
   "source": [
    "ErlangB(100.0, 101)"
   ]
  },
  {
   "cell_type": "markdown",
   "metadata": {},
   "source": [
    "## Return Min Number of lines needed to guarantee ErlangB() returns less than pBlock"
   ]
  },
  {
   "cell_type": "code",
   "execution_count": 187,
   "metadata": {
    "collapsed": false
   },
   "outputs": [
    {
     "data": {
      "text/html": [
       "<div style=\"max-height:1000px;max-width:1500px;overflow:auto;\">\n",
       "<table border=\"1\" class=\"dataframe\">\n",
       "  <thead>\n",
       "    <tr style=\"text-align: right;\">\n",
       "      <th></th>\n",
       "      <th>concur</th>\n",
       "      <th>lines</th>\n",
       "      <th>pB</th>\n",
       "      <th>pBlock</th>\n",
       "    </tr>\n",
       "  </thead>\n",
       "  <tbody>\n",
       "    <tr>\n",
       "      <th>0</th>\n",
       "      <td> 100</td>\n",
       "      <td> 128</td>\n",
       "      <td> 0.000968</td>\n",
       "      <td> 0.001</td>\n",
       "    </tr>\n",
       "  </tbody>\n",
       "</table>\n",
       "</div>"
      ],
      "text/plain": [
       "   concur  lines        pB  pBlock\n",
       "0     100    128  0.000968   0.001"
      ]
     },
     "execution_count": 187,
     "metadata": {},
     "output_type": "execute_result"
    }
   ],
   "source": [
    "def numLines (concurrency, pBlock, abs_min_lines = None, incrementer = 1):\n",
    "   \n",
    "    concurrency =float (concurrency)\n",
    "    if abs_min_lines is None:\n",
    "        abs_min_lines = int (concurrency) + incrementer\n",
    "    pB_absminlines = ErlangB(concurrency, abs_min_lines)\n",
    "    pb_minlines =  ErlangB(concurrency, abs_min_lines)\n",
    "    \n",
    "    myDF = pd.DataFrame.from_dict({'concur': [concurrency],\n",
    "                                       'pBlock': [pBlock],\n",
    "                                       'lines': [abs_min_lines],\n",
    "                                       'pB': [pb_minlines] }\n",
    "                                      )\n",
    "    #print myDF\n",
    "   \n",
    "    min_lines = int (abs_min_lines * 1.1)\n",
    "\n",
    "    ###############################################################\n",
    "    ##  Loop through the possible min_lines (until calculated pB becomes less then pBlock,\n",
    "    ##  incrementing them by incrementer\n",
    "    ###############################################################\n",
    "    while pb_minlines >= pBlock:\n",
    "        pb_minlines = ErlangB(concurrency, min_lines)\n",
    "        mydf = pd.DataFrame.from_dict({'concur': [concurrency],\n",
    "                                       'pBlock': [pBlock],\n",
    "                                       'lines': [min_lines],\n",
    "                                       'pB': [pb_minlines] }\n",
    "                                      )\n",
    "        ##print mydf     \n",
    "        myDF = myDF.append(mydf)\n",
    "        min_lines = int (min_lines + incrementer)\n",
    "    \n",
    "    if VERBOSE:\n",
    "        return myDF\n",
    "    else:\n",
    "        return mydf\n",
    "        \n",
    "numLines (100, 0.001)\n"
   ]
  },
  {
   "cell_type": "code",
   "execution_count": null,
   "metadata": {
    "collapsed": false
   },
   "outputs": [],
   "source": []
  }
 ],
 "metadata": {
  "kernelspec": {
   "display_name": "Python 2",
   "language": "python",
   "name": "python2"
  },
  "language_info": {
   "codemirror_mode": {
    "name": "ipython",
    "version": 2
   },
   "file_extension": ".py",
   "mimetype": "text/x-python",
   "name": "python",
   "nbconvert_exporter": "python",
   "pygments_lexer": "ipython2",
   "version": "2.7.9"
  }
 },
 "nbformat": 4,
 "nbformat_minor": 0
}

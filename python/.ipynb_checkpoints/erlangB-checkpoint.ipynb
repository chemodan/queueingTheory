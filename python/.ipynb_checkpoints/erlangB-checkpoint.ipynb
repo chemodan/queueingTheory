{
 "cells": [
  {
   "cell_type": "code",
   "execution_count": 11,
   "metadata": {
    "collapsed": true
   },
   "outputs": [],
   "source": [
    "from math import factorial\n",
    "\n",
    "def ErlangB (concurrency, num_lines):\n",
    "    InvB = 1.0\n",
    "    for j in range(1, num_lines+1):\n",
    "        InvB = 1.0 + InvB * (j/concurrency)\n",
    "    return (1.0 /InvB)\n"
   ]
  },
  {
   "cell_type": "code",
   "execution_count": 12,
   "metadata": {
    "collapsed": false
   },
   "outputs": [
    {
     "data": {
      "text/plain": [
       "0.005690054606869932"
      ]
     },
     "execution_count": 12,
     "metadata": {},
     "output_type": "execute_result"
    }
   ],
   "source": [
    "ErlangB(100.0, 120)"
   ]
  },
  {
   "cell_type": "code",
   "execution_count": 26,
   "metadata": {
    "collapsed": false
   },
   "outputs": [
    {
     "data": {
      "text/plain": [
       "[20.0, 30.0, 40.0, 50.0, 60.0, 70.0, 80.0, 90.0, 100.0]"
      ]
     },
     "execution_count": 26,
     "metadata": {},
     "output_type": "execute_result"
    }
   ],
   "source": [
    "myLines = 120\n",
    "myConcur = range (20, 110, 10)\n",
    "[float (myC) for myC in myConcur]"
   ]
  },
  {
   "cell_type": "code",
   "execution_count": 27,
   "metadata": {
    "collapsed": false
   },
   "outputs": [
    {
     "data": {
      "text/plain": [
       "[4.0955854777350024e-52,\n",
       " 2.513751032817983e-35,\n",
       " 1.1220852047182216e-24,\n",
       " 2.169115001592308e-17,\n",
       " 3.126707710550111e-12,\n",
       " 1.533759374444374e-08,\n",
       " 6.336525509838332e-06,\n",
       " 0.00039597357950996187,\n",
       " 0.005690054606869932]"
      ]
     },
     "execution_count": 27,
     "metadata": {},
     "output_type": "execute_result"
    }
   ],
   "source": [
    "blocking = [ErlangB(float(myC), myLines) for myC in myConcur]\n",
    "blocking"
   ]
  }
 ],
 "metadata": {
  "kernelspec": {
   "display_name": "Python 2",
   "language": "python",
   "name": "python2"
  },
  "language_info": {
   "codemirror_mode": {
    "name": "ipython",
    "version": 2
   },
   "file_extension": ".py",
   "mimetype": "text/x-python",
   "name": "python",
   "nbconvert_exporter": "python",
   "pygments_lexer": "ipython2",
   "version": "2.7.9"
  }
 },
 "nbformat": 4,
 "nbformat_minor": 0
}

{
 "cells": [
  {
   "cell_type": "markdown",
   "metadata": {},
   "source": [
    "# Erlang B calculations\n",
    "## source of truth: http://www.erlang.com/calculator/erlb/\n"
   ]
  },
  {
   "cell_type": "code",
   "execution_count": 11,
   "metadata": {
    "collapsed": true
   },
   "outputs": [],
   "source": [
    "from math import factorial\n",
    "\n",
    "########################################################\n",
    "## Calculate the probability of blocking under Erlang-B model assumptions\n",
    "########################################################\n",
    "def ErlangB (concurrency, num_lines):\n",
    "    InvB = 1.0\n",
    "    for j in range(1, num_lines+1):\n",
    "        InvB = 1.0 + InvB * (j/concurrency)\n",
    "    return (1.0 / InvB)\n",
    "\n",
    "########################################################\n",
    "## Min Number of lines to guarantee ErlangB() returns less than pBlock\n",
    "########################################################\n",
    "def numLines (concurrency, pBlock):\n",
    "    abs_min_lines = int (concurrency)"
   ]
  },
  {
   "cell_type": "code",
   "execution_count": 33,
   "metadata": {
    "collapsed": false
   },
   "outputs": [
    {
     "data": {
      "text/plain": [
       "0.005690054606869932"
      ]
     },
     "execution_count": 33,
     "metadata": {},
     "output_type": "execute_result"
    }
   ],
   "source": [
    "ErlangB(100.0, 120)"
   ]
  },
  {
   "cell_type": "code",
   "execution_count": 47,
   "metadata": {
    "collapsed": false
   },
   "outputs": [
    {
     "name": "stdout",
     "output_type": "stream",
     "text": [
      "0.001 0.333333333333 0.0769230769231\n"
     ]
    }
   ],
   "source": [
    "concurrency = 100\n",
    "pBlock = 0.001\n",
    "\n",
    "abs_min_lines = int (concurrency) + 1\n",
    "abs_min_lines\n",
    "\n",
    "\n",
    "min_lines = abs_min_lines\n",
    "max_lines = int (min_lines * 1.1)\n",
    "\n",
    "erlB_min_lines = ErlangB (concurrency, min_lines)\n",
    "erlB_max_lines = ErlangB (concurrency, max_lines)\n",
    "\n",
    "print pBlock, erlB_min_lines, erlB_max_lines"
   ]
  },
  {
   "cell_type": "code",
   "execution_count": 53,
   "metadata": {
    "collapsed": false
   },
   "outputs": [
    {
     "name": "stdout",
     "output_type": "stream",
     "text": [
      "0.001 5.98384242867e-07\n",
      "100 213\n"
     ]
    }
   ],
   "source": [
    "################################################\n",
    "##  Estimate the upper bound by going up in 10% increments\n",
    "################################################\n",
    "while erlB_min_lines > pBlock:\n",
    "    min_lines  = int(max_lines)\n",
    "    max_lines = int (min_lines * 1.1)\n",
    "    erlB_min_lines = ErlangB (concurrency, min_lines)\n",
    "    # erlB_max_lines = ErlangB (concurrency, max_lines)\n",
    "\n",
    "print  pBlock, erlB_min_lines\n",
    "print concurrency, min_lines\n",
    "\n",
    "abs_max_lines = min_lines"
   ]
  },
  {
   "cell_type": "code",
   "execution_count": 54,
   "metadata": {
    "collapsed": true
   },
   "outputs": [],
   "source": [
    "################################################\n",
    "## Now estimate the lower bound by binary search\n",
    "################################################\n",
    "\n"
   ]
  },
  {
   "cell_type": "code",
   "execution_count": 32,
   "metadata": {
    "collapsed": false
   },
   "outputs": [
    {
     "name": "stdout",
     "output_type": "stream",
     "text": [
      "[100.0]\n"
     ]
    },
    {
     "data": {
      "text/plain": [
       "[0.005690054606869932]"
      ]
     },
     "execution_count": 32,
     "metadata": {},
     "output_type": "execute_result"
    }
   ],
   "source": [
    "myLines = 120\n",
    "#myConcur = range (20, 110, 10)\n",
    "myConcur = [100]\n",
    "print [float (myC) for myC in myConcur]\n",
    "blocking = [ErlangB(float(myC), myLines) for myC in myConcur]\n",
    "blocking"
   ]
  },
  {
   "cell_type": "code",
   "execution_count": null,
   "metadata": {
    "collapsed": false
   },
   "outputs": [],
   "source": []
  }
 ],
 "metadata": {
  "kernelspec": {
   "display_name": "Python 2",
   "language": "python",
   "name": "python2"
  },
  "language_info": {
   "codemirror_mode": {
    "name": "ipython",
    "version": 2
   },
   "file_extension": ".py",
   "mimetype": "text/x-python",
   "name": "python",
   "nbconvert_exporter": "python",
   "pygments_lexer": "ipython2",
   "version": "2.7.9"
  }
 },
 "nbformat": 4,
 "nbformat_minor": 0
}
